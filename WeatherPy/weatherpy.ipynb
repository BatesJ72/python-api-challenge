{
 "cells": [
  {
   "cell_type": "code",
   "execution_count": 1,
   "metadata": {},
   "outputs": [],
   "source": [
    "import requests\n",
    "from config import api_key\n",
    "import matplotlib.pyplot as plt\n",
    "import random\n",
    "import numpy as np"
   ]
  },
  {
   "cell_type": "code",
   "execution_count": 2,
   "metadata": {},
   "outputs": [],
   "source": [
    "%load_ext lab_black"
   ]
  },
  {
   "cell_type": "code",
   "execution_count": 47,
   "metadata": {},
   "outputs": [
    {
     "data": {
      "text/plain": [
       "51"
      ]
     },
     "execution_count": 47,
     "metadata": {},
     "output_type": "execute_result"
    }
   ],
   "source": [
    "# Get random latitude\n",
    "\n",
    "lat_list = []\n",
    "x = 0\n",
    "while x < 51:\n",
    "    lat = round(np.random.uniform(-90, 90), 5)\n",
    "    lat_list.append(lat)\n",
    "    x += 1\n",
    "\n",
    "lat_list[:5]\n",
    "\n",
    "len(lat_list)"
   ]
  },
  {
   "cell_type": "code",
   "execution_count": 48,
   "metadata": {},
   "outputs": [
    {
     "data": {
      "text/plain": [
       "51"
      ]
     },
     "execution_count": 48,
     "metadata": {},
     "output_type": "execute_result"
    }
   ],
   "source": [
    "# Get random longitudes\n",
    "\n",
    "lon_list = []\n",
    "y = 0\n",
    "while y < 51:\n",
    "    lon = round(np.random.uniform(-180, 180), 5)\n",
    "    lon_list.append(lon)\n",
    "    y += 1\n",
    "\n",
    "lon_list[:5]\n",
    "\n",
    "len(lon_list)"
   ]
  },
  {
   "cell_type": "code",
   "execution_count": 49,
   "metadata": {},
   "outputs": [
    {
     "data": {
      "text/plain": [
       "[(87.92651, -146.14658),\n",
       " (26.96816, 121.14528),\n",
       " (-15.83742, -25.36371),\n",
       " (20.17412, -85.0804),\n",
       " (-48.39917, 5.18785)]"
      ]
     },
     "execution_count": 49,
     "metadata": {},
     "output_type": "execute_result"
    }
   ],
   "source": [
    "# Combine lat and long into pairs\n",
    "\n",
    "lat_long_pairs = list(zip(lat_list, lon_list))\n",
    "\n",
    "lat_long_pairs[:5]"
   ]
  },
  {
   "cell_type": "code",
   "execution_count": 6,
   "metadata": {},
   "outputs": [],
   "source": [
    "# # One that works\n",
    "\n",
    "# url = \"https://api.openweathermap.org/data/2.5/weather?id=2172797&appid=api_key\"\n",
    "\n",
    "# r = requests.get(url)\n",
    "\n",
    "# r.status_code\n",
    "\n",
    "# data = r.json()\n",
    "# # data"
   ]
  },
  {
   "cell_type": "code",
   "execution_count": 7,
   "metadata": {},
   "outputs": [],
   "source": [
    "# # Class Example\n",
    "\n",
    "# cities_results = []\n",
    "\n",
    "# for city in cities:\n",
    "\n",
    "#     data = requests.get(\"http://api.openweathermap.org/data/2.5/weather\", params={\n",
    "#         \"q\": city,\n",
    "#         \"appid\": api_key\n",
    "#     }).json()\n",
    "\n",
    "#     city_result = extract_data(data)\n",
    "\n",
    "#     cities_results.append(city_result)"
   ]
  },
  {
   "cell_type": "code",
   "execution_count": 50,
   "metadata": {},
   "outputs": [],
   "source": [
    "# Attempt to mimic class example\n",
    "\n",
    "cities_results = []\n",
    "\n",
    "for element in lat_long_pairs:\n",
    "\n",
    "    data = requests.get(\n",
    "        \"http://api.openweathermap.org/data/2.5/weather\",\n",
    "        params={\"lat\": element[0], \"lon\": element[1], \"appid\": api_key,},\n",
    "    ).json()\n",
    "\n",
    "    cities_results.append(data)"
   ]
  },
  {
   "cell_type": "code",
   "execution_count": null,
   "metadata": {},
   "outputs": [],
   "source": [
    "# cities_results = []\n",
    "\n",
    "# for element in lat_long_pairs:\n",
    "#     print(element[0])"
   ]
  },
  {
   "cell_type": "code",
   "execution_count": null,
   "metadata": {},
   "outputs": [],
   "source": [
    "cities_results\n",
    "# data"
   ]
  },
  {
   "cell_type": "code",
   "execution_count": 10,
   "metadata": {},
   "outputs": [
    {
     "data": {
      "text/plain": [
       "-83.02"
      ]
     },
     "execution_count": 10,
     "metadata": {},
     "output_type": "execute_result"
    }
   ],
   "source": [
    "lat = data[\"coord\"][\"lat\"]\n",
    "lat"
   ]
  },
  {
   "cell_type": "code",
   "execution_count": 56,
   "metadata": {},
   "outputs": [
    {
     "data": {
      "text/plain": [
       "[269.42,\n",
       " 295.17,\n",
       " 296.12,\n",
       " 302.62,\n",
       " 275.93,\n",
       " 295.47,\n",
       " 299.02,\n",
       " 301.44,\n",
       " 303.59,\n",
       " 287.7,\n",
       " 300.72,\n",
       " 297.85,\n",
       " 297.76,\n",
       " 265.62,\n",
       " 295.87,\n",
       " 239.22,\n",
       " 264.31,\n",
       " 300.03,\n",
       " 256.54,\n",
       " 247.54,\n",
       " 293.29,\n",
       " 310.8,\n",
       " 299.71,\n",
       " 296.77,\n",
       " 260.38,\n",
       " 274.33,\n",
       " 302.03,\n",
       " 298.16,\n",
       " 225.63,\n",
       " 299.79,\n",
       " 291.9,\n",
       " 300.65,\n",
       " 271.69,\n",
       " 274.34,\n",
       " 294.43,\n",
       " 308.08,\n",
       " 295.73,\n",
       " 296.15,\n",
       " 298.42,\n",
       " 299.15,\n",
       " 279.26,\n",
       " 301.63,\n",
       " 289.91,\n",
       " 282.26,\n",
       " 303.59,\n",
       " 274.01,\n",
       " 299.87,\n",
       " 300.15,\n",
       " 270.78,\n",
       " 276.96,\n",
       " 276.87]"
      ]
     },
     "execution_count": 56,
     "metadata": {},
     "output_type": "execute_result"
    }
   ],
   "source": [
    "# temp_k = data[\"main\"][\"temp\"]\n",
    "# temp_k\n",
    "\n",
    "# temp_k = cities_results[1][\"main\"][\"temp\"]\n",
    "# temp_k\n",
    "\n",
    "temp_k = []\n",
    "# i = -1\n",
    "# for e in range(len(cities_results)):\n",
    "#     temp_k.append(cities_results[i][\"main\"][\"temp\"])\n",
    "#     i += 1\n",
    "\n",
    "for i in range(len(cities_results)):\n",
    "    temp_k.append(cities_results[i][\"main\"][\"temp\"])\n",
    "\n",
    "# for i in range(len(cities_results)):\n",
    "#     #     temp_k.append(cities_results[2][\"main\"][\"temp\"])\n",
    "#     print(cities_results[i])\n",
    "\n",
    "# for i in lat_list:\n",
    "#     print(i)\n",
    "\n",
    "# temp_k = [\n",
    "#     cities_results[i][\"main\"][\"temp\"]\n",
    "#     for cities_results[i][\"main\"][\"temp\"] in enumerate(range(len(cities_results)))\n",
    "# ]\n",
    "\n",
    "# for c in range(len(cities_results)):\n",
    "#     for i in cities_results[:]:\n",
    "#         print(cities_results[1][\"main\"][\"temp\"])\n",
    "\n",
    "# for c in cities_results:\n",
    "#     print(cities_results)\n",
    "\n",
    "# print(list(cities_results[1][\"main\"][\"temp\"] for city in cities_results))\n",
    "\n",
    "temp_k"
   ]
  },
  {
   "cell_type": "code",
   "execution_count": null,
   "metadata": {},
   "outputs": [],
   "source": [
    "cloud_percent = data[\"clouds\"][\"all\"]\n",
    "cloud_percent"
   ]
  },
  {
   "cell_type": "code",
   "execution_count": null,
   "metadata": {},
   "outputs": [],
   "source": [
    "humidity_percent = data[\"main\"][\"humidity\"]\n",
    "humidity_percent"
   ]
  },
  {
   "cell_type": "code",
   "execution_count": null,
   "metadata": {},
   "outputs": [],
   "source": [
    "wind_speed_meters_sec = data[\"wind\"][\"speed\"]\n",
    "wind_speed_meters_sec"
   ]
  },
  {
   "cell_type": "code",
   "execution_count": null,
   "metadata": {},
   "outputs": [],
   "source": [
    "# Scatter plot for temp and cloudiness\n",
    "plt.scatter(temp_k, cloud_percent)\n",
    "plt.show()"
   ]
  },
  {
   "cell_type": "code",
   "execution_count": null,
   "metadata": {},
   "outputs": [],
   "source": [
    "# Scatter plot for humidity and latitude\n",
    "plt.scatter(lat, humidity_percent)\n",
    "plt.show()"
   ]
  },
  {
   "cell_type": "code",
   "execution_count": null,
   "metadata": {},
   "outputs": [],
   "source": [
    "# Scatter plot for cloudiness and latitude\n",
    "plt.scatter(lat, cloud_percent)\n",
    "plt.show()"
   ]
  },
  {
   "cell_type": "code",
   "execution_count": null,
   "metadata": {},
   "outputs": [],
   "source": [
    "# Scatter plot for wind speed and latitude\n",
    "plt.scatter(lat, wind_speed_meters_sec)\n",
    "plt.show()"
   ]
  },
  {
   "cell_type": "code",
   "execution_count": null,
   "metadata": {},
   "outputs": [],
   "source": [
    "# Divide out the latitudes into northern or southern hemsipheres\n",
    "\n",
    "north_lat = []\n",
    "south_lat = []\n",
    "\n",
    "# add latitudes to proper list\n",
    "\n",
    "if lat >= 0:\n",
    "    north_lat.append(lat)\n",
    "else:\n",
    "    south_lat.append(lat)\n",
    "\n",
    "print(f\"The northern latitudes are: {north_lat}\")\n",
    "print(f\"The souther latitudes are: {south_lat}\")"
   ]
  },
  {
   "cell_type": "code",
   "execution_count": null,
   "metadata": {},
   "outputs": [],
   "source": [
    "# Linear Regression: Northern Hemisphere - Temperature (F) vs. Latitude"
   ]
  },
  {
   "cell_type": "code",
   "execution_count": null,
   "metadata": {},
   "outputs": [],
   "source": [
    "# Linear Regression: Southern Hemisphere - Temperature (F) vs. Latitude"
   ]
  },
  {
   "cell_type": "code",
   "execution_count": null,
   "metadata": {},
   "outputs": [],
   "source": [
    "# Linear Regression: Northern Hemisphere - Humidity (%) vs. Latitude"
   ]
  },
  {
   "cell_type": "code",
   "execution_count": null,
   "metadata": {},
   "outputs": [],
   "source": [
    "# Linear Regression: Southern Hemisphere - Humidity (%) vs. Latitude"
   ]
  },
  {
   "cell_type": "code",
   "execution_count": null,
   "metadata": {},
   "outputs": [],
   "source": [
    "# Linear Regression: Northern Hemisphere - Cloudiness (%) vs. Latitude"
   ]
  },
  {
   "cell_type": "code",
   "execution_count": null,
   "metadata": {},
   "outputs": [],
   "source": [
    "# Linear Regression: Southern Hemisphere - Cloudiness (%) vs. Latitude"
   ]
  },
  {
   "cell_type": "code",
   "execution_count": null,
   "metadata": {},
   "outputs": [],
   "source": [
    "# Linear Regression: Northern Hemisphere - Wind Speed (mph) vs. Latitude"
   ]
  },
  {
   "cell_type": "code",
   "execution_count": null,
   "metadata": {},
   "outputs": [],
   "source": [
    "# Linear Regression: Southern Hemisphere - Wind Speed (mph) vs. Latitude"
   ]
  }
 ],
 "metadata": {
  "environment": {
   "name": "common-cpu.m54",
   "type": "gcloud",
   "uri": "gcr.io/deeplearning-platform-release/base-cpu:m54"
  },
  "kernelspec": {
   "display_name": "Python 3",
   "language": "python",
   "name": "python3"
  },
  "language_info": {
   "codemirror_mode": {
    "name": "ipython",
    "version": 3
   },
   "file_extension": ".py",
   "mimetype": "text/x-python",
   "name": "python",
   "nbconvert_exporter": "python",
   "pygments_lexer": "ipython3",
   "version": "3.7.8"
  }
 },
 "nbformat": 4,
 "nbformat_minor": 4
}
