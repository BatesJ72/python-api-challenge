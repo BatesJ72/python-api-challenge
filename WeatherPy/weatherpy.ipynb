{
 "cells": [
  {
   "cell_type": "code",
   "execution_count": 57,
   "metadata": {},
   "outputs": [],
   "source": [
    "import requests\n",
    "from config import api_key\n",
    "import matplotlib.pyplot as plt\n",
    "import random\n",
    "import numpy as np\n",
    "from sklearn.linear_model import LinearRegression\n",
    "import pandas as pd"
   ]
  },
  {
   "cell_type": "code",
   "execution_count": 2,
   "metadata": {},
   "outputs": [],
   "source": [
    "%load_ext lab_black"
   ]
  },
  {
   "cell_type": "code",
   "execution_count": 3,
   "metadata": {},
   "outputs": [
    {
     "data": {
      "text/plain": [
       "51"
      ]
     },
     "execution_count": 3,
     "metadata": {},
     "output_type": "execute_result"
    }
   ],
   "source": [
    "# Get random latitude\n",
    "\n",
    "lat_list = []\n",
    "x = 0\n",
    "while x < 501:\n",
    "    lat = round(np.random.uniform(-90, 90), 5)\n",
    "    lat_list.append(lat)\n",
    "    x += 1\n",
    "\n",
    "lat_list[:5]\n",
    "\n",
    "len(lat_list)"
   ]
  },
  {
   "cell_type": "code",
   "execution_count": 4,
   "metadata": {},
   "outputs": [
    {
     "data": {
      "text/plain": [
       "51"
      ]
     },
     "execution_count": 4,
     "metadata": {},
     "output_type": "execute_result"
    }
   ],
   "source": [
    "# Get random longitudes\n",
    "\n",
    "lon_list = []\n",
    "y = 0\n",
    "while y < 501:\n",
    "    lon = round(np.random.uniform(-180, 180), 5)\n",
    "    lon_list.append(lon)\n",
    "    y += 1\n",
    "\n",
    "lon_list[:5]\n",
    "\n",
    "len(lon_list)"
   ]
  },
  {
   "cell_type": "code",
   "execution_count": 5,
   "metadata": {},
   "outputs": [
    {
     "data": {
      "text/plain": [
       "[(4.1742, -161.53353),\n",
       " (58.12609, 4.73195),\n",
       " (-15.54504, -73.08301),\n",
       " (-33.17276, -172.26149),\n",
       " (26.98064, -146.9581)]"
      ]
     },
     "execution_count": 5,
     "metadata": {},
     "output_type": "execute_result"
    }
   ],
   "source": [
    "# Combine lat and long into pairs\n",
    "\n",
    "lat_long_pairs = list(zip(lat_list, lon_list))\n",
    "\n",
    "lat_long_pairs[:5]"
   ]
  },
  {
   "cell_type": "code",
   "execution_count": 6,
   "metadata": {},
   "outputs": [],
   "source": [
    "# # One that works\n",
    "\n",
    "# url = \"https://api.openweathermap.org/data/2.5/weather?id=2172797&appid=api_key\"\n",
    "\n",
    "# r = requests.get(url)\n",
    "\n",
    "# r.status_code\n",
    "\n",
    "# data = r.json()\n",
    "# # data"
   ]
  },
  {
   "cell_type": "code",
   "execution_count": 7,
   "metadata": {},
   "outputs": [],
   "source": [
    "# # Class Example\n",
    "\n",
    "# cities_results = []\n",
    "\n",
    "# for city in cities:\n",
    "\n",
    "#     data = requests.get(\"http://api.openweathermap.org/data/2.5/weather\", params={\n",
    "#         \"q\": city,\n",
    "#         \"appid\": api_key\n",
    "#     }).json()\n",
    "\n",
    "#     city_result = extract_data(data)\n",
    "\n",
    "#     cities_results.append(city_result)"
   ]
  },
  {
   "cell_type": "code",
   "execution_count": 8,
   "metadata": {},
   "outputs": [],
   "source": [
    "# Attempt to mimic class example\n",
    "\n",
    "cities_results = []\n",
    "\n",
    "for element in lat_long_pairs:\n",
    "\n",
    "    data = requests.get(\n",
    "        \"http://api.openweathermap.org/data/2.5/weather\",\n",
    "        params={\"lat\": element[0], \"lon\": element[1], \"appid\": api_key,},\n",
    "    ).json()\n",
    "\n",
    "    cities_results.append(data)"
   ]
  },
  {
   "cell_type": "code",
   "execution_count": 9,
   "metadata": {},
   "outputs": [],
   "source": [
    "# cities_results = []\n",
    "\n",
    "# for element in lat_long_pairs:\n",
    "#     print(element[0])"
   ]
  },
  {
   "cell_type": "code",
   "execution_count": 39,
   "metadata": {},
   "outputs": [
    {
     "data": {
      "text/plain": [
       "[{'coord': {'lon': -161.53, 'lat': 4.17},\n",
       "  'weather': [{'id': 803,\n",
       "    'main': 'Clouds',\n",
       "    'description': 'broken clouds',\n",
       "    'icon': '04n'}],\n",
       "  'base': 'stations',\n",
       "  'main': {'temp': 299.29,\n",
       "   'feels_like': 300.05,\n",
       "   'temp_min': 299.29,\n",
       "   'temp_max': 299.29,\n",
       "   'pressure': 1011,\n",
       "   'humidity': 79,\n",
       "   'sea_level': 1011,\n",
       "   'grnd_level': 1011},\n",
       "  'visibility': 10000,\n",
       "  'wind': {'speed': 5.79, 'deg': 124},\n",
       "  'clouds': {'all': 70},\n",
       "  'dt': 1601136407,\n",
       "  'sys': {'sunrise': 1601224443, 'sunset': 1601267973},\n",
       "  'timezone': 50400,\n",
       "  'id': 0,\n",
       "  'name': '',\n",
       "  'cod': 200},\n",
       " {'coord': {'lon': 4.73, 'lat': 58.13},\n",
       "  'weather': [{'id': 803,\n",
       "    'main': 'Clouds',\n",
       "    'description': 'broken clouds',\n",
       "    'icon': '04d'}],\n",
       "  'base': 'stations',\n",
       "  'main': {'temp': 286.98,\n",
       "   'feels_like': 281.98,\n",
       "   'temp_min': 286.98,\n",
       "   'temp_max': 286.98,\n",
       "   'pressure': 1007,\n",
       "   'humidity': 76,\n",
       "   'sea_level': 1007,\n",
       "   'grnd_level': 1007},\n",
       "  'visibility': 10000,\n",
       "  'wind': {'speed': 7.08, 'deg': 10},\n",
       "  'clouds': {'all': 55},\n",
       "  'dt': 1601136407,\n",
       "  'sys': {'country': 'NO', 'sunrise': 1601098505, 'sunset': 1601141368},\n",
       "  'timezone': 0,\n",
       "  'id': 3131824,\n",
       "  'name': 'Vigrestad',\n",
       "  'cod': 200}]"
      ]
     },
     "execution_count": 39,
     "metadata": {},
     "output_type": "execute_result"
    }
   ],
   "source": [
    "cities_results[:2]\n",
    "# data"
   ]
  },
  {
   "cell_type": "code",
   "execution_count": 22,
   "metadata": {},
   "outputs": [
    {
     "data": {
      "text/plain": [
       "[4.17, 58.13, -15.55, -33.17, 26.98]"
      ]
     },
     "execution_count": 22,
     "metadata": {},
     "output_type": "execute_result"
    }
   ],
   "source": [
    "# lat = data[\"coord\"][\"lat\"]\n",
    "# lat\n",
    "\n",
    "lat = []\n",
    "for i in range(len(cities_results)):\n",
    "    lat.append(cities_results[i][\"coord\"][\"lat\"])\n",
    "\n",
    "lat[:5]"
   ]
  },
  {
   "cell_type": "code",
   "execution_count": 12,
   "metadata": {},
   "outputs": [
    {
     "data": {
      "text/plain": [
       "[299.29, 286.98, 295.63, 289.42, 297.89]"
      ]
     },
     "execution_count": 12,
     "metadata": {},
     "output_type": "execute_result"
    }
   ],
   "source": [
    "temp_k = []\n",
    "for i in range(len(cities_results)):\n",
    "    temp_k.append(cities_results[i][\"main\"][\"temp\"])\n",
    "\n",
    "temp_k[:5]"
   ]
  },
  {
   "cell_type": "code",
   "execution_count": 49,
   "metadata": {},
   "outputs": [
    {
     "name": "stdout",
     "output_type": "stream",
     "text": [
      "[79.05, 56.89]\n",
      "[299.29, 286.98]\n"
     ]
    }
   ],
   "source": [
    "# Convert temp_k to temp_f\n",
    "\n",
    "# T(K) × 9/5 - 459.67\n",
    "\n",
    "temp_f = []\n",
    "\n",
    "for t in range(len(temp_k)):\n",
    "    f = round((temp_k[t] * (9 / 5) - 459.67), 2)\n",
    "    temp_f.append(f)\n",
    "\n",
    "# Check results\n",
    "print(temp_f[:2])\n",
    "print(temp_k[:2])"
   ]
  },
  {
   "cell_type": "code",
   "execution_count": 17,
   "metadata": {},
   "outputs": [
    {
     "data": {
      "text/plain": [
       "[70, 55, 0, 0, 0]"
      ]
     },
     "execution_count": 17,
     "metadata": {},
     "output_type": "execute_result"
    }
   ],
   "source": [
    "# cloud_percent = data[\"clouds\"][\"all\"]\n",
    "# cloud_percent\n",
    "\n",
    "cloud_percent = []\n",
    "for i in range(len(cities_results)):\n",
    "    cloud_percent.append(cities_results[i][\"clouds\"][\"all\"])\n",
    "\n",
    "cloud_percent[:5]"
   ]
  },
  {
   "cell_type": "code",
   "execution_count": 19,
   "metadata": {},
   "outputs": [
    {
     "data": {
      "text/plain": [
       "[79, 76, 20, 90, 77]"
      ]
     },
     "execution_count": 19,
     "metadata": {},
     "output_type": "execute_result"
    }
   ],
   "source": [
    "# humidity_percent = data[\"main\"][\"humidity\"]\n",
    "# humidity_percent\n",
    "\n",
    "humidity_percent = []\n",
    "for i in range(len(cities_results)):\n",
    "    humidity_percent.append(cities_results[i][\"main\"][\"humidity\"])\n",
    "\n",
    "humidity_percent[:5]"
   ]
  },
  {
   "cell_type": "code",
   "execution_count": 18,
   "metadata": {},
   "outputs": [
    {
     "data": {
      "text/plain": [
       "[5.79, 7.08, 4.58, 0.29, 6.7]"
      ]
     },
     "execution_count": 18,
     "metadata": {},
     "output_type": "execute_result"
    }
   ],
   "source": [
    "# wind_speed_meters_sec = data[\"wind\"][\"speed\"]\n",
    "# wind_speed_meters_sec\n",
    "\n",
    "wind_speed_meters_sec = []\n",
    "for i in range(len(cities_results)):\n",
    "    wind_speed_meters_sec.append(cities_results[i][\"wind\"][\"speed\"])\n",
    "\n",
    "wind_speed_meters_sec[:5]"
   ]
  },
  {
   "cell_type": "code",
   "execution_count": 50,
   "metadata": {},
   "outputs": [
    {
     "data": {
      "image/png": "[encoded data removed]",
      "text/plain": [
       "<Figure size 432x288 with 1 Axes>"
      ]
     },
     "metadata": {
      "needs_background": "light"
     },
     "output_type": "display_data"
    }
   ],
   "source": [
    "# Scatter plot for temp and cloudiness\n",
    "fig, ax1 = plt.subplots()\n",
    "ax1.set_title(\"Temperature and Cloudiness\")\n",
    "plt.xlabel(\"Temp (f)\")\n",
    "plt.ylabel(\"Cloudiness Percent\")\n",
    "\n",
    "plt.scatter(temp_f, cloud_percent)\n",
    "\n",
    "plt.show()"
   ]
  },
  {
   "cell_type": "code",
   "execution_count": 34,
   "metadata": {},
   "outputs": [
    {
     "data": {
      "image/png": "[encoded data removed]",
      "text/plain": [
       "<Figure size 432x288 with 1 Axes>"
      ]
     },
     "metadata": {
      "needs_background": "light"
     },
     "output_type": "display_data"
    }
   ],
   "source": [
    "# Scatter plot for humidity and latitude\n",
    "fig, ax2 = plt.subplots()\n",
    "ax2.set_title(\"Latitude and Humidity\")\n",
    "plt.xlabel(\"Latitude\")\n",
    "plt.ylabel(\"Humdi Percent\")\n",
    "\n",
    "plt.scatter(lat, humidity_percent)\n",
    "plt.show()"
   ]
  },
  {
   "cell_type": "code",
   "execution_count": 31,
   "metadata": {},
   "outputs": [
    {
     "data": {
      "image/png": "[encoded data removed]",
      "text/plain": [
       "<Figure size 432x288 with 1 Axes>"
      ]
     },
     "metadata": {
      "needs_background": "light"
     },
     "output_type": "display_data"
    }
   ],
   "source": [
    "# Scatter plot for cloudiness and latitude\n",
    "fig, ax3 = plt.subplots()\n",
    "ax3.set_title(\"Latitude and Cloudiness\")\n",
    "plt.xlabel(\"Latitude\")\n",
    "plt.ylabel(\"Cloudiness Percent\")\n",
    "\n",
    "plt.scatter(lat, cloud_percent)\n",
    "plt.show()"
   ]
  },
  {
   "cell_type": "code",
   "execution_count": 35,
   "metadata": {},
   "outputs": [
    {
     "data": {
      "image/png": "[encoded data removed]",
      "text/plain": [
       "<Figure size 432x288 with 1 Axes>"
      ]
     },
     "metadata": {
      "needs_background": "light"
     },
     "output_type": "display_data"
    }
   ],
   "source": [
    "# Scatter plot for wind speed and latitude\n",
    "fig, ax4 = plt.subplots()\n",
    "ax4.set_title(\"Latitude and Wind Speed\")\n",
    "plt.xlabel(\"Latitude\")\n",
    "plt.ylabel(\"Wind Speed\")\n",
    "\n",
    "plt.scatter(lat, wind_speed_meters_sec)\n",
    "plt.show()"
   ]
  },
  {
   "cell_type": "code",
   "execution_count": 38,
   "metadata": {},
   "outputs": [
    {
     "name": "stdout",
     "output_type": "stream",
     "text": [
      "The northern latitudes are: [4.1742, 58.12609, 26.98064, 52.23581, 64.91921, 20.1638, 69.43347, 41.75281, 82.03765, 41.09889, 35.06191, 7.78385, 1.36539, 57.11324, 66.2262, 75.05546, 65.40279, 71.74564, 76.97088, 73.57247, 84.67397, 36.92309]\n",
      "The souther latitudes are: [-15.54504, -33.17276, -39.44825, -56.03409, -5.40918, -51.34949, -44.1246, -30.76448, -42.25349, -82.99074, -57.70931, -66.60088, -20.39565, -60.17452, -37.43352, -54.47001, -73.51608, -85.41397, -54.40453, -52.53941, -54.28384, -1.6799, -86.9594, -37.03403, -9.1601, -22.71663, -79.20205, -44.77094, -66.45605]\n"
     ]
    }
   ],
   "source": [
    "# Divide out the latitudes into northern or southern hemsipheres\n",
    "\n",
    "# north_lat = []\n",
    "# south_lat = []\n",
    "\n",
    "# # add latitudes to proper list\n",
    "\n",
    "# for lat in lat_list:\n",
    "#     if lat >= 0:\n",
    "#         north_lat.append(lat)\n",
    "#     else:\n",
    "#         south_lat.append(lat)\n",
    "\n",
    "# print(f\"The northern latitudes are: {north_lat}\")\n",
    "# print(f\"The southern latitudes are: {south_lat}\")"
   ]
  },
  {
   "cell_type": "code",
   "execution_count": 59,
   "metadata": {},
   "outputs": [
    {
     "data": {
      "text/html": [
       "<div>\n",
       "<style scoped>\n",
       "    .dataframe tbody tr th:only-of-type {\n",
       "        vertical-align: middle;\n",
       "    }\n",
       "\n",
       "    .dataframe tbody tr th {\n",
       "        vertical-align: top;\n",
       "    }\n",
       "\n",
       "    .dataframe thead th {\n",
       "        text-align: right;\n",
       "    }\n",
       "</style>\n",
       "<table border=\"1\" class=\"dataframe\">\n",
       "  <thead>\n",
       "    <tr style=\"text-align: right;\">\n",
       "      <th></th>\n",
       "      <th>latitude</th>\n",
       "      <th>longitude</th>\n",
       "      <th>temp_f</th>\n",
       "      <th>wind_speed_meters_sec</th>\n",
       "      <th>cloudiness</th>\n",
       "      <th>humidity</th>\n",
       "    </tr>\n",
       "  </thead>\n",
       "  <tbody>\n",
       "    <tr>\n",
       "      <th>0</th>\n",
       "      <td>4.17420</td>\n",
       "      <td>-161.53353</td>\n",
       "      <td>79.05</td>\n",
       "      <td>5.79</td>\n",
       "      <td>70</td>\n",
       "      <td>79</td>\n",
       "    </tr>\n",
       "    <tr>\n",
       "      <th>1</th>\n",
       "      <td>58.12609</td>\n",
       "      <td>4.73195</td>\n",
       "      <td>56.89</td>\n",
       "      <td>7.08</td>\n",
       "      <td>55</td>\n",
       "      <td>76</td>\n",
       "    </tr>\n",
       "    <tr>\n",
       "      <th>2</th>\n",
       "      <td>-15.54504</td>\n",
       "      <td>-73.08301</td>\n",
       "      <td>72.46</td>\n",
       "      <td>4.58</td>\n",
       "      <td>0</td>\n",
       "      <td>20</td>\n",
       "    </tr>\n",
       "    <tr>\n",
       "      <th>3</th>\n",
       "      <td>-33.17276</td>\n",
       "      <td>-172.26149</td>\n",
       "      <td>61.29</td>\n",
       "      <td>0.29</td>\n",
       "      <td>0</td>\n",
       "      <td>90</td>\n",
       "    </tr>\n",
       "    <tr>\n",
       "      <th>4</th>\n",
       "      <td>26.98064</td>\n",
       "      <td>-146.95810</td>\n",
       "      <td>76.53</td>\n",
       "      <td>6.70</td>\n",
       "      <td>0</td>\n",
       "      <td>77</td>\n",
       "    </tr>\n",
       "  </tbody>\n",
       "</table>\n",
       "</div>"
      ],
      "text/plain": [
       "   latitude  longitude  temp_f  wind_speed_meters_sec  cloudiness  humidity\n",
       "0   4.17420 -161.53353   79.05                   5.79          70        79\n",
       "1  58.12609    4.73195   56.89                   7.08          55        76\n",
       "2 -15.54504  -73.08301   72.46                   4.58           0        20\n",
       "3 -33.17276 -172.26149   61.29                   0.29           0        90\n",
       "4  26.98064 -146.95810   76.53                   6.70           0        77"
      ]
     },
     "execution_count": 59,
     "metadata": {},
     "output_type": "execute_result"
    }
   ],
   "source": [
    "# Create a DataFrame from my lists\n",
    "\n",
    "df = pd.DataFrame(\n",
    "    {\n",
    "        \"latitude\": lat_list,\n",
    "        \"longitude\": lon_list,\n",
    "        \"temp_f\": temp_f,\n",
    "        \"wind_speed_meters_sec\": wind_speed_meters_sec,\n",
    "        \"cloudiness\": cloud_percent,\n",
    "        \"humidity\": humidity_percent,\n",
    "    }\n",
    ")\n",
    "\n",
    "df.head()"
   ]
  },
  {
   "cell_type": "code",
   "execution_count": 60,
   "metadata": {},
   "outputs": [
    {
     "data": {
      "text/html": [
       "<div>\n",
       "<style scoped>\n",
       "    .dataframe tbody tr th:only-of-type {\n",
       "        vertical-align: middle;\n",
       "    }\n",
       "\n",
       "    .dataframe tbody tr th {\n",
       "        vertical-align: top;\n",
       "    }\n",
       "\n",
       "    .dataframe thead th {\n",
       "        text-align: right;\n",
       "    }\n",
       "</style>\n",
       "<table border=\"1\" class=\"dataframe\">\n",
       "  <thead>\n",
       "    <tr style=\"text-align: right;\">\n",
       "      <th></th>\n",
       "      <th>latitude</th>\n",
       "      <th>longitude</th>\n",
       "      <th>temp_f</th>\n",
       "      <th>wind_speed_meters_sec</th>\n",
       "      <th>cloudiness</th>\n",
       "      <th>humidity</th>\n",
       "      <th>hemisphere</th>\n",
       "    </tr>\n",
       "  </thead>\n",
       "  <tbody>\n",
       "    <tr>\n",
       "      <th>0</th>\n",
       "      <td>4.17420</td>\n",
       "      <td>-161.53353</td>\n",
       "      <td>79.05</td>\n",
       "      <td>5.79</td>\n",
       "      <td>70</td>\n",
       "      <td>79</td>\n",
       "      <td>Northern</td>\n",
       "    </tr>\n",
       "    <tr>\n",
       "      <th>1</th>\n",
       "      <td>58.12609</td>\n",
       "      <td>4.73195</td>\n",
       "      <td>56.89</td>\n",
       "      <td>7.08</td>\n",
       "      <td>55</td>\n",
       "      <td>76</td>\n",
       "      <td>Northern</td>\n",
       "    </tr>\n",
       "    <tr>\n",
       "      <th>2</th>\n",
       "      <td>-15.54504</td>\n",
       "      <td>-73.08301</td>\n",
       "      <td>72.46</td>\n",
       "      <td>4.58</td>\n",
       "      <td>0</td>\n",
       "      <td>20</td>\n",
       "      <td>Southern</td>\n",
       "    </tr>\n",
       "    <tr>\n",
       "      <th>3</th>\n",
       "      <td>-33.17276</td>\n",
       "      <td>-172.26149</td>\n",
       "      <td>61.29</td>\n",
       "      <td>0.29</td>\n",
       "      <td>0</td>\n",
       "      <td>90</td>\n",
       "      <td>Southern</td>\n",
       "    </tr>\n",
       "    <tr>\n",
       "      <th>4</th>\n",
       "      <td>26.98064</td>\n",
       "      <td>-146.95810</td>\n",
       "      <td>76.53</td>\n",
       "      <td>6.70</td>\n",
       "      <td>0</td>\n",
       "      <td>77</td>\n",
       "      <td>Northern</td>\n",
       "    </tr>\n",
       "  </tbody>\n",
       "</table>\n",
       "</div>"
      ],
      "text/plain": [
       "   latitude  longitude  temp_f  wind_speed_meters_sec  cloudiness  humidity  \\\n",
       "0   4.17420 -161.53353   79.05                   5.79          70        79   \n",
       "1  58.12609    4.73195   56.89                   7.08          55        76   \n",
       "2 -15.54504  -73.08301   72.46                   4.58           0        20   \n",
       "3 -33.17276 -172.26149   61.29                   0.29           0        90   \n",
       "4  26.98064 -146.95810   76.53                   6.70           0        77   \n",
       "\n",
       "  hemisphere  \n",
       "0   Northern  \n",
       "1   Northern  \n",
       "2   Southern  \n",
       "3   Southern  \n",
       "4   Northern  "
      ]
     },
     "execution_count": 60,
     "metadata": {},
     "output_type": "execute_result"
    }
   ],
   "source": [
    "# Add a column for northern or southern hemisphere\n",
    "\n",
    "df[\"hemisphere\"] = np.where(df[\"latitude\"] >= 0, \"Northern\", \"Southern\")\n",
    "\n",
    "df.head()"
   ]
  },
  {
   "cell_type": "code",
   "execution_count": 71,
   "metadata": {},
   "outputs": [],
   "source": [
    "# Create a df for nothern hemisphere\n",
    "\n",
    "north = df[df[\"hemisphere\"] == \"Northern\"]\n",
    "nor\n",
    "th.head()\n",
    "print(len(north))"
   ]
  },
  {
   "cell_type": "code",
   "execution_count": 74,
   "metadata": {},
   "outputs": [
    {
     "name": "stdout",
     "output_type": "stream",
     "text": [
      "29\n"
     ]
    }
   ],
   "source": [
    "# Create a df for southern hemisphere\n",
    "\n",
    "south = df[df[\"hemisphere\"] == \"Southern\"]\n",
    "south.head()\n",
    "print(len(south))"
   ]
  },
  {
   "cell_type": "code",
   "execution_count": 77,
   "metadata": {},
   "outputs": [
    {
     "data": {
      "text/plain": [
       "<function matplotlib.pyplot.show(close=None, block=None)>"
      ]
     },
     "execution_count": 77,
     "metadata": {},
     "output_type": "execute_result"
    },
    {
     "data": {
      "image/png": "[encoded data removed]",
      "text/plain": [
       "<Figure size 432x288 with 1 Axes>"
      ]
     },
     "metadata": {
      "needs_background": "light"
     },
     "output_type": "display_data"
    }
   ],
   "source": [
    "# Linear Regression: Northern Hemisphere - Temperature vs. Latitude\n",
    "\n",
    "model = LinearRegression()\n",
    "\n",
    "X = [[l] for l in north[\"latitude\"]]\n",
    "y = [[t] for t in north[\"temp_f\"]]\n",
    "\n",
    "# print(len(X))\n",
    "# print(len(y))\n",
    "\n",
    "model.fit(X, y)\n",
    "\n",
    "coef = model.coef_\n",
    "# print(f\"The correlation coefficient is {coef}\")\n",
    "intercept = model.intercept_\n",
    "\n",
    "\n",
    "def predict_function(vol):\n",
    "    return model.predict([[vol]])[0]\n",
    "\n",
    "\n",
    "predict_x = np.arange(min(north_lat), max(north_lat))\n",
    "predict_y = [predict_function(e) for e in predict_x]\n",
    "\n",
    "\n",
    "fig, ax5 = plt.subplots()\n",
    "ax5.set_title(\"Northern Hemisphere: Temperature vs. Latitude, with linear regression\")\n",
    "plt.xlabel(\"Latitude\")\n",
    "plt.ylabel(\"Temperature (f)\")\n",
    "\n",
    "plt.scatter(X, y)\n",
    "\n",
    "plt.plot(predict_x, predict_y)\n",
    "plt.plot(predict_x, predict_y)\n",
    "plt.show"
   ]
  },
  {
   "cell_type": "code",
   "execution_count": null,
   "metadata": {},
   "outputs": [],
   "source": [
    "# Linear Regression: Southern Hemisphere - Temperature (F) vs. Latitude"
   ]
  },
  {
   "cell_type": "code",
   "execution_count": null,
   "metadata": {},
   "outputs": [],
   "source": [
    "# Linear Regression: Northern Hemisphere - Humidity (%) vs. Latitude"
   ]
  },
  {
   "cell_type": "code",
   "execution_count": null,
   "metadata": {},
   "outputs": [],
   "source": [
    "# Linear Regression: Southern Hemisphere - Humidity (%) vs. Latitude"
   ]
  },
  {
   "cell_type": "code",
   "execution_count": null,
   "metadata": {},
   "outputs": [],
   "source": [
    "# Linear Regression: Northern Hemisphere - Cloudiness (%) vs. Latitude"
   ]
  },
  {
   "cell_type": "code",
   "execution_count": null,
   "metadata": {},
   "outputs": [],
   "source": [
    "# Linear Regression: Southern Hemisphere - Cloudiness (%) vs. Latitude"
   ]
  },
  {
   "cell_type": "code",
   "execution_count": null,
   "metadata": {},
   "outputs": [],
   "source": [
    "# Linear Regression: Northern Hemisphere - Wind Speed (mph) vs. Latitude"
   ]
  },
  {
   "cell_type": "code",
   "execution_count": null,
   "metadata": {},
   "outputs": [],
   "source": [
    "# Linear Regression: Southern Hemisphere - Wind Speed (mph) vs. Latitude"
   ]
  }
 ],
 "metadata": {
  "environment": {
   "name": "common-cpu.m54",
   "type": "gcloud",
   "uri": "gcr.io/deeplearning-platform-release/base-cpu:m54"
  },
  "kernelspec": {
   "display_name": "Python 3",
   "language": "python",
   "name": "python3"
  },
  "language_info": {
   "codemirror_mode": {
    "name": "ipython",
    "version": 3
   },
   "file_extension": ".py",
   "mimetype": "text/x-python",
   "name": "python",
   "nbconvert_exporter": "python",
   "pygments_lexer": "ipython3",
   "version": "3.7.8"
  }
 },
 "nbformat": 4,
 "nbformat_minor": 4
}
