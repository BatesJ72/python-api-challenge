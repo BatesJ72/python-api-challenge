{
 "cells": [
  {
   "cell_type": "code",
   "execution_count": 1,
   "metadata": {},
   "outputs": [],
   "source": [
    "import requests\n",
    "from config import api_key\n",
    "import matplotlib.pyplot as plt\n",
    "import random\n",
    "import numpy as np"
   ]
  },
  {
   "cell_type": "code",
   "execution_count": 2,
   "metadata": {},
   "outputs": [],
   "source": [
    "%load_ext lab_black"
   ]
  },
  {
   "cell_type": "code",
   "execution_count": 3,
   "metadata": {},
   "outputs": [],
   "source": [
    "# One that works\n",
    "\n",
    "url = \"https://api.openweathermap.org/data/2.5/weather?id=2172797&appid=xxx\"\n",
    "\n",
    "r = requests.get(url)\n",
    "\n",
    "r.status_code\n",
    "\n",
    "data = r.json()\n",
    "# data"
   ]
  },
  {
   "cell_type": "code",
   "execution_count": 11,
   "metadata": {},
   "outputs": [
    {
     "data": {
      "text/plain": [
       "[-12.46914, 129.69038, 106.47717, 79.81415, -130.81196]"
      ]
     },
     "execution_count": 11,
     "metadata": {},
     "output_type": "execute_result"
    }
   ],
   "source": [
    "# Get random latitude\n",
    "\n",
    "lat_list = []\n",
    "x = 0\n",
    "while x < 51:\n",
    "    lat = round(np.random.uniform(-180, 180), 5)\n",
    "    lat_list.append(lat)\n",
    "    x += 1\n",
    "\n",
    "lat_list[:5]"
   ]
  },
  {
   "cell_type": "code",
   "execution_count": 12,
   "metadata": {},
   "outputs": [
    {
     "data": {
      "text/plain": [
       "[43.61987, 79.61176, 32.35982, -32.67873, 40.87458]"
      ]
     },
     "execution_count": 12,
     "metadata": {},
     "output_type": "execute_result"
    }
   ],
   "source": [
    "# Get random longitudes\n",
    "\n",
    "lon_list = []\n",
    "y = 0\n",
    "while y < 51:\n",
    "    lon = round(np.random.uniform(-90, 90), 5)\n",
    "    lon_list.append(lon)\n",
    "    y += 1\n",
    "\n",
    "lon_list[:5]"
   ]
  },
  {
   "cell_type": "code",
   "execution_count": 17,
   "metadata": {},
   "outputs": [
    {
     "data": {
      "text/plain": [
       "[(-12.46914, 43.61987),\n",
       " (129.69038, 79.61176),\n",
       " (106.47717, 32.35982),\n",
       " (79.81415, -32.67873),\n",
       " (-130.81196, 40.87458),\n",
       " (-99.70448, -24.36211),\n",
       " (107.7188, 86.85437),\n",
       " (133.88992, 62.74506),\n",
       " (6.98535, -30.68919),\n",
       " (-72.22984, -31.00063),\n",
       " (34.65865, -20.35835),\n",
       " (-86.57228, 41.85882),\n",
       " (111.27149, -17.85854),\n",
       " (-140.92491, 15.99986),\n",
       " (-76.57162, -41.07949),\n",
       " (130.70673, -43.81655),\n",
       " (25.04787, 35.47579),\n",
       " (127.72522, 57.3378),\n",
       " (-47.37261, -9.42163),\n",
       " (-18.17925, -68.06856),\n",
       " (99.97858, 72.14916),\n",
       " (-28.22203, 81.31472),\n",
       " (-94.25138, 74.26627),\n",
       " (20.4797, 2.07039),\n",
       " (76.91566, 52.23446),\n",
       " (-123.31473, 2.56301),\n",
       " (-125.55037, 76.60476),\n",
       " (178.37692, -27.79611),\n",
       " (-144.88844, 38.02665),\n",
       " (-148.56204, 89.23667),\n",
       " (-136.42034, 15.40237),\n",
       " (130.78433, -56.08238),\n",
       " (148.98566, -81.3111),\n",
       " (177.39035, -20.5804),\n",
       " (5.96595, 32.58628),\n",
       " (36.88791, 79.39387),\n",
       " (-35.62567, 56.43217),\n",
       " (134.86531, -82.68638),\n",
       " (-73.56015, -71.68216),\n",
       " (179.48751, -87.65319),\n",
       " (-175.9298, -84.94546),\n",
       " (-113.74808, -50.97312),\n",
       " (-28.81113, -40.83383),\n",
       " (152.85847, 88.33883),\n",
       " (178.80062, 36.94382),\n",
       " (130.86809, -62.99843),\n",
       " (29.72213, -3.85125),\n",
       " (-118.26228, 55.07935),\n",
       " (115.32819, -18.06606),\n",
       " (167.37468, -12.75684),\n",
       " (162.09218, -5.70089)]"
      ]
     },
     "execution_count": 17,
     "metadata": {},
     "output_type": "execute_result"
    }
   ],
   "source": [
    "# Combine lat and long into pairs\n",
    "\n",
    "lat_long_pairs = list(zip(lat_list, lon_list))\n",
    "\n",
    "lat_long_pairs"
   ]
  },
  {
   "cell_type": "code",
   "execution_count": 6,
   "metadata": {},
   "outputs": [],
   "source": [
    "# Class Example\n",
    "\n",
    "# cities = [\"Paris\", \"London\", \"Oslo\", \"Beijing\"]\n",
    "\n",
    "# cities_results = []\n",
    "\n",
    "# for city in cities:\n",
    "\n",
    "#     r = requests.get(\n",
    "#         \"http://api.openweathermap.org/data/2.5/weather\",\n",
    "#         params={\"q\": city, \"appid\": api_key},\n",
    "#     )"
   ]
  },
  {
   "cell_type": "code",
   "execution_count": 7,
   "metadata": {},
   "outputs": [],
   "source": [
    "# Attempt to mimic class example\n",
    "\n",
    "# r = requests.get(\n",
    "#     \"https://api.openweathermap.org/data/2.5/weather\",\n",
    "#     params={\"id\": 2172797, \"appid\": api_key},\n",
    "# )"
   ]
  },
  {
   "cell_type": "code",
   "execution_count": 8,
   "metadata": {},
   "outputs": [
    {
     "data": {
      "text/plain": [
       "401"
      ]
     },
     "execution_count": 8,
     "metadata": {},
     "output_type": "execute_result"
    }
   ],
   "source": [
    "r.status_code"
   ]
  },
  {
   "cell_type": "code",
   "execution_count": null,
   "metadata": {},
   "outputs": [],
   "source": []
  },
  {
   "cell_type": "code",
   "execution_count": 9,
   "metadata": {},
   "outputs": [
    {
     "ename": "KeyError",
     "evalue": "'coord'",
     "output_type": "error",
     "traceback": [
      "\u001b[0;31m---------------------------------------------------------------------------\u001b[0m",
      "\u001b[0;31mKeyError\u001b[0m                                  Traceback (most recent call last)",
      "\u001b[0;32m<ipython-input-9-f374a7bb96b2>\u001b[0m in \u001b[0;36m<module>\u001b[0;34m\u001b[0m\n\u001b[0;32m----> 1\u001b[0;31m \u001b[0mlat\u001b[0m \u001b[0;34m=\u001b[0m \u001b[0mdata\u001b[0m\u001b[0;34m[\u001b[0m\u001b[0;34m\"coord\"\u001b[0m\u001b[0;34m]\u001b[0m\u001b[0;34m[\u001b[0m\u001b[0;34m\"lat\"\u001b[0m\u001b[0;34m]\u001b[0m\u001b[0;34m\u001b[0m\u001b[0;34m\u001b[0m\u001b[0m\n\u001b[0m\u001b[1;32m      2\u001b[0m \u001b[0mlat\u001b[0m\u001b[0;34m\u001b[0m\u001b[0;34m\u001b[0m\u001b[0m\n",
      "\u001b[0;31mKeyError\u001b[0m: 'coord'"
     ]
    }
   ],
   "source": [
    "lat = data[\"coord\"][\"lat\"]\n",
    "lat"
   ]
  },
  {
   "cell_type": "code",
   "execution_count": null,
   "metadata": {},
   "outputs": [],
   "source": [
    "temp_k = data[\"main\"][\"temp\"]\n",
    "temp_k"
   ]
  },
  {
   "cell_type": "code",
   "execution_count": null,
   "metadata": {},
   "outputs": [],
   "source": [
    "cloud_percent = data[\"clouds\"][\"all\"]\n",
    "cloud_percent"
   ]
  },
  {
   "cell_type": "code",
   "execution_count": null,
   "metadata": {},
   "outputs": [],
   "source": [
    "humidity_percent = data[\"main\"][\"humidity\"]\n",
    "humidity_percent"
   ]
  },
  {
   "cell_type": "code",
   "execution_count": null,
   "metadata": {},
   "outputs": [],
   "source": [
    "wind_speed_meters_sec = data[\"wind\"][\"speed\"]\n",
    "wind_speed_meters_sec"
   ]
  },
  {
   "cell_type": "code",
   "execution_count": null,
   "metadata": {},
   "outputs": [],
   "source": [
    "# Scatter plot for temp and cloudiness\n",
    "plt.scatter(temp_k, cloud_percent)\n",
    "plt.show()"
   ]
  },
  {
   "cell_type": "code",
   "execution_count": null,
   "metadata": {},
   "outputs": [],
   "source": [
    "# Scatter plot for humidity and latitude\n",
    "plt.scatter(lat, humidity_percent)\n",
    "plt.show()"
   ]
  },
  {
   "cell_type": "code",
   "execution_count": null,
   "metadata": {},
   "outputs": [],
   "source": [
    "# Scatter plot for cloudiness and latitude\n",
    "plt.scatter(lat, cloud_percent)\n",
    "plt.show()"
   ]
  },
  {
   "cell_type": "code",
   "execution_count": null,
   "metadata": {},
   "outputs": [],
   "source": [
    "# Scatter plot for wind speed and latitude\n",
    "plt.scatter(lat, wind_speed_meters_sec)\n",
    "plt.show()"
   ]
  },
  {
   "cell_type": "code",
   "execution_count": null,
   "metadata": {},
   "outputs": [],
   "source": [
    "# Divide out the latitudes into northern or southern hemsipheres\n",
    "\n",
    "north_lat = []\n",
    "south_lat = []\n",
    "\n",
    "# add latitudes to proper list\n",
    "\n",
    "if lat >= 0:\n",
    "    north_lat.append(lat)\n",
    "else:\n",
    "    south_lat.append(lat)\n",
    "    \n",
    "print(f\"The northern latitudes are: {north_lat}\")\n",
    "print(f\"The souther latitudes are: {south_lat}\")"
   ]
  },
  {
   "cell_type": "code",
   "execution_count": null,
   "metadata": {},
   "outputs": [],
   "source": [
    "# Linear Regression: Northern Hemisphere - Temperature (F) vs. Latitude\n",
    "\n"
   ]
  },
  {
   "cell_type": "code",
   "execution_count": null,
   "metadata": {},
   "outputs": [],
   "source": [
    "# Linear Regression: Southern Hemisphere - Temperature (F) vs. Latitude\n",
    "\n"
   ]
  },
  {
   "cell_type": "code",
   "execution_count": null,
   "metadata": {},
   "outputs": [],
   "source": [
    "# Linear Regression: Northern Hemisphere - Humidity (%) vs. Latitude\n",
    "\n"
   ]
  },
  {
   "cell_type": "code",
   "execution_count": null,
   "metadata": {},
   "outputs": [],
   "source": [
    "# Linear Regression: Southern Hemisphere - Humidity (%) vs. Latitude\n",
    "\n"
   ]
  },
  {
   "cell_type": "code",
   "execution_count": null,
   "metadata": {},
   "outputs": [],
   "source": [
    "# Linear Regression: Northern Hemisphere - Cloudiness (%) vs. Latitude\n",
    "\n"
   ]
  },
  {
   "cell_type": "code",
   "execution_count": null,
   "metadata": {},
   "outputs": [],
   "source": [
    "# Linear Regression: Southern Hemisphere - Cloudiness (%) vs. Latitude\n",
    "\n"
   ]
  },
  {
   "cell_type": "code",
   "execution_count": null,
   "metadata": {},
   "outputs": [],
   "source": [
    "# Linear Regression: Northern Hemisphere - Wind Speed (mph) vs. Latitude\n",
    "\n"
   ]
  },
  {
   "cell_type": "code",
   "execution_count": null,
   "metadata": {},
   "outputs": [],
   "source": [
    "# Linear Regression: Southern Hemisphere - Wind Speed (mph) vs. Latitude\n",
    "\n"
   ]
  }
 ],
 "metadata": {
  "environment": {
   "name": "common-cpu.m54",
   "type": "gcloud",
   "uri": "gcr.io/deeplearning-platform-release/base-cpu:m54"
  },
  "kernelspec": {
   "display_name": "Python 3",
   "language": "python",
   "name": "python3"
  },
  "language_info": {
   "codemirror_mode": {
    "name": "ipython",
    "version": 3
   },
   "file_extension": ".py",
   "mimetype": "text/x-python",
   "name": "python",
   "nbconvert_exporter": "python",
   "pygments_lexer": "ipython3",
   "version": "3.7.8"
  }
 },
 "nbformat": 4,
 "nbformat_minor": 4
}
