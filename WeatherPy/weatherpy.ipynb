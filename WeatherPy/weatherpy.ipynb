{
 "cells": [
  {
   "cell_type": "code",
   "execution_count": 1,
   "metadata": {},
   "outputs": [],
   "source": [
    "import requests\n",
    "from config import api_key\n",
    "import matplotlib.pyplot as plt\n",
    "import random\n",
    "import numpy as np\n",
    "from sklearn.linear_model import LinearRegression\n",
    "import pandas as pd"
   ]
  },
  {
   "cell_type": "code",
   "execution_count": 2,
   "metadata": {},
   "outputs": [],
   "source": [
    "%load_ext lab_black"
   ]
  },
  {
   "cell_type": "code",
   "execution_count": 3,
   "metadata": {},
   "outputs": [
    {
     "data": {
      "text/plain": [
       "501"
      ]
     },
     "execution_count": 3,
     "metadata": {},
     "output_type": "execute_result"
    }
   ],
   "source": [
    "# Get random latitude\n",
    "\n",
    "lat_list = []\n",
    "x = 0\n",
    "while x < 501:\n",
    "    lat = round(np.random.uniform(-90, 90), 5)\n",
    "    lat_list.append(lat)\n",
    "    x += 1\n",
    "\n",
    "lat_list[:5]\n",
    "\n",
    "len(lat_list)"
   ]
  },
  {
   "cell_type": "code",
   "execution_count": 4,
   "metadata": {},
   "outputs": [
    {
     "data": {
      "text/plain": [
       "501"
      ]
     },
     "execution_count": 4,
     "metadata": {},
     "output_type": "execute_result"
    }
   ],
   "source": [
    "# Get random longitudes\n",
    "\n",
    "lon_list = []\n",
    "y = 0\n",
    "while y < 501:\n",
    "    lon = round(np.random.uniform(-180, 180), 5)\n",
    "    lon_list.append(lon)\n",
    "    y += 1\n",
    "\n",
    "lon_list[:5]\n",
    "\n",
    "len(lon_list)"
   ]
  },
  {
   "cell_type": "code",
   "execution_count": 5,
   "metadata": {},
   "outputs": [
    {
     "data": {
      "text/plain": [
       "[(29.11598, 138.35359),\n",
       " (79.80197, 39.56512),\n",
       " (20.48208, -31.77221),\n",
       " (75.61902, -175.01224),\n",
       " (-1.81252, 34.0227)]"
      ]
     },
     "execution_count": 5,
     "metadata": {},
     "output_type": "execute_result"
    }
   ],
   "source": [
    "# Combine lat and long into pairs\n",
    "\n",
    "lat_long_pairs = list(zip(lat_list, lon_list))\n",
    "\n",
    "lat_long_pairs[:5]"
   ]
  },
  {
   "cell_type": "code",
   "execution_count": 6,
   "metadata": {},
   "outputs": [],
   "source": [
    "# Pull data from API\n",
    "\n",
    "cities_results = []\n",
    "\n",
    "for element in lat_long_pairs:\n",
    "\n",
    "    data = requests.get(\n",
    "        \"http://api.openweathermap.org/data/2.5/weather\",\n",
    "        params={\"lat\": element[0], \"lon\": element[1], \"appid\": api_key,},\n",
    "    ).json()\n",
    "\n",
    "    cities_results.append(data)"
   ]
  },
  {
   "cell_type": "code",
   "execution_count": 7,
   "metadata": {},
   "outputs": [
    {
     "data": {
      "text/plain": [
       "[{'coord': {'lon': 138.35, 'lat': 29.12},\n",
       "  'weather': [{'id': 804,\n",
       "    'main': 'Clouds',\n",
       "    'description': 'overcast clouds',\n",
       "    'icon': '04n'}],\n",
       "  'base': 'stations',\n",
       "  'main': {'temp': 300.24,\n",
       "   'feels_like': 302.22,\n",
       "   'temp_min': 300.24,\n",
       "   'temp_max': 300.24,\n",
       "   'pressure': 1008,\n",
       "   'humidity': 71,\n",
       "   'sea_level': 1008,\n",
       "   'grnd_level': 1008},\n",
       "  'visibility': 10000,\n",
       "  'wind': {'speed': 3.42, 'deg': 320},\n",
       "  'clouds': {'all': 98},\n",
       "  'dt': 1601139506,\n",
       "  'sys': {'sunrise': 1601152648, 'sunset': 1601195861},\n",
       "  'timezone': 32400,\n",
       "  'id': 0,\n",
       "  'name': '',\n",
       "  'cod': 200},\n",
       " {'coord': {'lon': 39.57, 'lat': 79.8},\n",
       "  'weather': [{'id': 804,\n",
       "    'main': 'Clouds',\n",
       "    'description': 'overcast clouds',\n",
       "    'icon': '04n'}],\n",
       "  'base': 'stations',\n",
       "  'main': {'temp': 272.13,\n",
       "   'feels_like': 264.1,\n",
       "   'temp_min': 272.13,\n",
       "   'temp_max': 272.13,\n",
       "   'pressure': 1007,\n",
       "   'humidity': 94,\n",
       "   'sea_level': 1007,\n",
       "   'grnd_level': 1007},\n",
       "  'visibility': 8842,\n",
       "  'wind': {'speed': 8.27, 'deg': 286},\n",
       "  'clouds': {'all': 100},\n",
       "  'dt': 1601139506,\n",
       "  'sys': {'sunrise': 1601090688, 'sunset': 1601132466},\n",
       "  'timezone': 10800,\n",
       "  'id': 0,\n",
       "  'name': '',\n",
       "  'cod': 200}]"
      ]
     },
     "execution_count": 7,
     "metadata": {},
     "output_type": "execute_result"
    }
   ],
   "source": [
    "cities_results[:2]\n",
    "# data"
   ]
  },
  {
   "cell_type": "code",
   "execution_count": 8,
   "metadata": {},
   "outputs": [
    {
     "data": {
      "text/plain": [
       "[29.12, 79.8, 20.48, 75.62, -1.81]"
      ]
     },
     "execution_count": 8,
     "metadata": {},
     "output_type": "execute_result"
    }
   ],
   "source": [
    "# Latitudes\n",
    "\n",
    "lat = []\n",
    "for i in range(len(cities_results)):\n",
    "    lat.append(cities_results[i][\"coord\"][\"lat\"])\n",
    "\n",
    "lat[:5]"
   ]
  },
  {
   "cell_type": "code",
   "execution_count": 9,
   "metadata": {},
   "outputs": [
    {
     "data": {
      "text/plain": [
       "[300.24, 272.13, 299.09, 272.27, 297.15]"
      ]
     },
     "execution_count": 9,
     "metadata": {},
     "output_type": "execute_result"
    }
   ],
   "source": [
    "# Temps\n",
    "\n",
    "temp_k = []\n",
    "for i in range(len(cities_results)):\n",
    "    temp_k.append(cities_results[i][\"main\"][\"temp\"])\n",
    "\n",
    "temp_k[:5]"
   ]
  },
  {
   "cell_type": "code",
   "execution_count": 10,
   "metadata": {},
   "outputs": [
    {
     "name": "stdout",
     "output_type": "stream",
     "text": [
      "[80.76, 30.16]\n",
      "[300.24, 272.13]\n"
     ]
    }
   ],
   "source": [
    "# Convert temp_k to temp_f\n",
    "\n",
    "# T(K) × 9/5 - 459.67\n",
    "\n",
    "temp_f = []\n",
    "\n",
    "for t in range(len(temp_k)):\n",
    "    f = round((temp_k[t] * (9 / 5) - 459.67), 2)\n",
    "    temp_f.append(f)\n",
    "\n",
    "# Check results\n",
    "print(temp_f[:2])\n",
    "print(temp_k[:2])"
   ]
  },
  {
   "cell_type": "code",
   "execution_count": 11,
   "metadata": {},
   "outputs": [
    {
     "data": {
      "text/plain": [
       "[98, 100, 98, 58, 75]"
      ]
     },
     "execution_count": 11,
     "metadata": {},
     "output_type": "execute_result"
    }
   ],
   "source": [
    "# Cloudiness\n",
    "\n",
    "cloud_percent = []\n",
    "for i in range(len(cities_results)):\n",
    "    cloud_percent.append(cities_results[i][\"clouds\"][\"all\"])\n",
    "\n",
    "cloud_percent[:5]"
   ]
  },
  {
   "cell_type": "code",
   "execution_count": 12,
   "metadata": {},
   "outputs": [
    {
     "data": {
      "text/plain": [
       "[71, 94, 83, 97, 69]"
      ]
     },
     "execution_count": 12,
     "metadata": {},
     "output_type": "execute_result"
    }
   ],
   "source": [
    "# Humidity\n",
    "\n",
    "humidity_percent = []\n",
    "for i in range(len(cities_results)):\n",
    "    humidity_percent.append(cities_results[i][\"main\"][\"humidity\"])\n",
    "\n",
    "humidity_percent[:5]"
   ]
  },
  {
   "cell_type": "code",
   "execution_count": 13,
   "metadata": {},
   "outputs": [
    {
     "data": {
      "text/plain": [
       "[3.42, 8.27, 6.84, 5.82, 1.86]"
      ]
     },
     "execution_count": 13,
     "metadata": {},
     "output_type": "execute_result"
    }
   ],
   "source": [
    "# wind_speed_meters_sec\n",
    "\n",
    "wind_speed_meters_sec = []\n",
    "for i in range(len(cities_results)):\n",
    "    wind_speed_meters_sec.append(cities_results[i][\"wind\"][\"speed\"])\n",
    "\n",
    "wind_speed_meters_sec[:5]"
   ]
  },
  {
   "cell_type": "code",
   "execution_count": 14,
   "metadata": {},
   "outputs": [
    {
     "data": {
      "image/png": "[encoded data removed]",
      "text/plain": [
       "<Figure size 432x288 with 1 Axes>"
      ]
     },
     "metadata": {
      "needs_background": "light"
     },
     "output_type": "display_data"
    }
   ],
   "source": [
    "# Scatter plot for temp and cloudiness\n",
    "fig, ax1 = plt.subplots()\n",
    "ax1.set_title(\"Temperature and Cloudiness\")\n",
    "plt.xlabel(\"Temp (f)\")\n",
    "plt.ylabel(\"Cloudiness Percent\")\n",
    "\n",
    "plt.scatter(temp_f, cloud_percent)\n",
    "\n",
    "plt.show()"
   ]
  },
  {
   "cell_type": "code",
   "execution_count": 15,
   "metadata": {},
   "outputs": [
    {
     "data": {
      "image/png": "[encoded data removed]",
      "text/plain": [
       "<Figure size 432x288 with 1 Axes>"
      ]
     },
     "metadata": {
      "needs_background": "light"
     },
     "output_type": "display_data"
    }
   ],
   "source": [
    "# Scatter plot for humidity and latitude\n",
    "fig, ax2 = plt.subplots()\n",
    "ax2.set_title(\"Latitude and Humidity\")\n",
    "plt.xlabel(\"Latitude\")\n",
    "plt.ylabel(\"Humdi Percent\")\n",
    "\n",
    "plt.scatter(lat, humidity_percent)\n",
    "plt.show()"
   ]
  },
  {
   "cell_type": "code",
   "execution_count": 16,
   "metadata": {},
   "outputs": [
    {
     "data": {
      "image/png": "[encoded data removed]",
      "text/plain": [
       "<Figure size 432x288 with 1 Axes>"
      ]
     },
     "metadata": {
      "needs_background": "light"
     },
     "output_type": "display_data"
    }
   ],
   "source": [
    "# Scatter plot for cloudiness and latitude\n",
    "fig, ax3 = plt.subplots()\n",
    "ax3.set_title(\"Latitude and Cloudiness\")\n",
    "plt.xlabel(\"Latitude\")\n",
    "plt.ylabel(\"Cloudiness Percent\")\n",
    "\n",
    "plt.scatter(lat, cloud_percent)\n",
    "plt.show()"
   ]
  },
  {
   "cell_type": "code",
   "execution_count": 17,
   "metadata": {},
   "outputs": [
    {
     "data": {
      "image/png": "[encoded data removed]",
      "text/plain": [
       "<Figure size 432x288 with 1 Axes>"
      ]
     },
     "metadata": {
      "needs_background": "light"
     },
     "output_type": "display_data"
    }
   ],
   "source": [
    "# Scatter plot for wind speed and latitude\n",
    "fig, ax4 = plt.subplots()\n",
    "ax4.set_title(\"Latitude and Wind Speed\")\n",
    "plt.xlabel(\"Latitude\")\n",
    "plt.ylabel(\"Wind Speed\")\n",
    "\n",
    "plt.scatter(lat, wind_speed_meters_sec)\n",
    "plt.show()"
   ]
  },
  {
   "cell_type": "code",
   "execution_count": 18,
   "metadata": {},
   "outputs": [
    {
     "data": {
      "text/html": [
       "<div>\n",
       "<style scoped>\n",
       "    .dataframe tbody tr th:only-of-type {\n",
       "        vertical-align: middle;\n",
       "    }\n",
       "\n",
       "    .dataframe tbody tr th {\n",
       "        vertical-align: top;\n",
       "    }\n",
       "\n",
       "    .dataframe thead th {\n",
       "        text-align: right;\n",
       "    }\n",
       "</style>\n",
       "<table border=\"1\" class=\"dataframe\">\n",
       "  <thead>\n",
       "    <tr style=\"text-align: right;\">\n",
       "      <th></th>\n",
       "      <th>latitude</th>\n",
       "      <th>longitude</th>\n",
       "      <th>temp_f</th>\n",
       "      <th>wind_speed_meters_sec</th>\n",
       "      <th>cloudiness</th>\n",
       "      <th>humidity</th>\n",
       "    </tr>\n",
       "  </thead>\n",
       "  <tbody>\n",
       "    <tr>\n",
       "      <th>0</th>\n",
       "      <td>29.11598</td>\n",
       "      <td>138.35359</td>\n",
       "      <td>80.76</td>\n",
       "      <td>3.42</td>\n",
       "      <td>98</td>\n",
       "      <td>71</td>\n",
       "    </tr>\n",
       "    <tr>\n",
       "      <th>1</th>\n",
       "      <td>79.80197</td>\n",
       "      <td>39.56512</td>\n",
       "      <td>30.16</td>\n",
       "      <td>8.27</td>\n",
       "      <td>100</td>\n",
       "      <td>94</td>\n",
       "    </tr>\n",
       "    <tr>\n",
       "      <th>2</th>\n",
       "      <td>20.48208</td>\n",
       "      <td>-31.77221</td>\n",
       "      <td>78.69</td>\n",
       "      <td>6.84</td>\n",
       "      <td>98</td>\n",
       "      <td>83</td>\n",
       "    </tr>\n",
       "    <tr>\n",
       "      <th>3</th>\n",
       "      <td>75.61902</td>\n",
       "      <td>-175.01224</td>\n",
       "      <td>30.42</td>\n",
       "      <td>5.82</td>\n",
       "      <td>58</td>\n",
       "      <td>97</td>\n",
       "    </tr>\n",
       "    <tr>\n",
       "      <th>4</th>\n",
       "      <td>-1.81252</td>\n",
       "      <td>34.02270</td>\n",
       "      <td>75.20</td>\n",
       "      <td>1.86</td>\n",
       "      <td>75</td>\n",
       "      <td>69</td>\n",
       "    </tr>\n",
       "  </tbody>\n",
       "</table>\n",
       "</div>"
      ],
      "text/plain": [
       "   latitude  longitude  temp_f  wind_speed_meters_sec  cloudiness  humidity\n",
       "0  29.11598  138.35359   80.76                   3.42          98        71\n",
       "1  79.80197   39.56512   30.16                   8.27         100        94\n",
       "2  20.48208  -31.77221   78.69                   6.84          98        83\n",
       "3  75.61902 -175.01224   30.42                   5.82          58        97\n",
       "4  -1.81252   34.02270   75.20                   1.86          75        69"
      ]
     },
     "execution_count": 18,
     "metadata": {},
     "output_type": "execute_result"
    }
   ],
   "source": [
    "# Create a DataFrame from my lists\n",
    "\n",
    "df = pd.DataFrame(\n",
    "    {\n",
    "        \"latitude\": lat_list,\n",
    "        \"longitude\": lon_list,\n",
    "        \"temp_f\": temp_f,\n",
    "        \"wind_speed_meters_sec\": wind_speed_meters_sec,\n",
    "        \"cloudiness\": cloud_percent,\n",
    "        \"humidity\": humidity_percent,\n",
    "    }\n",
    ")\n",
    "\n",
    "df.head()"
   ]
  },
  {
   "cell_type": "code",
   "execution_count": 19,
   "metadata": {},
   "outputs": [
    {
     "data": {
      "text/html": [
       "<div>\n",
       "<style scoped>\n",
       "    .dataframe tbody tr th:only-of-type {\n",
       "        vertical-align: middle;\n",
       "    }\n",
       "\n",
       "    .dataframe tbody tr th {\n",
       "        vertical-align: top;\n",
       "    }\n",
       "\n",
       "    .dataframe thead th {\n",
       "        text-align: right;\n",
       "    }\n",
       "</style>\n",
       "<table border=\"1\" class=\"dataframe\">\n",
       "  <thead>\n",
       "    <tr style=\"text-align: right;\">\n",
       "      <th></th>\n",
       "      <th>latitude</th>\n",
       "      <th>longitude</th>\n",
       "      <th>temp_f</th>\n",
       "      <th>wind_speed_meters_sec</th>\n",
       "      <th>cloudiness</th>\n",
       "      <th>humidity</th>\n",
       "      <th>hemisphere</th>\n",
       "    </tr>\n",
       "  </thead>\n",
       "  <tbody>\n",
       "    <tr>\n",
       "      <th>0</th>\n",
       "      <td>29.11598</td>\n",
       "      <td>138.35359</td>\n",
       "      <td>80.76</td>\n",
       "      <td>3.42</td>\n",
       "      <td>98</td>\n",
       "      <td>71</td>\n",
       "      <td>Northern</td>\n",
       "    </tr>\n",
       "    <tr>\n",
       "      <th>1</th>\n",
       "      <td>79.80197</td>\n",
       "      <td>39.56512</td>\n",
       "      <td>30.16</td>\n",
       "      <td>8.27</td>\n",
       "      <td>100</td>\n",
       "      <td>94</td>\n",
       "      <td>Northern</td>\n",
       "    </tr>\n",
       "    <tr>\n",
       "      <th>2</th>\n",
       "      <td>20.48208</td>\n",
       "      <td>-31.77221</td>\n",
       "      <td>78.69</td>\n",
       "      <td>6.84</td>\n",
       "      <td>98</td>\n",
       "      <td>83</td>\n",
       "      <td>Northern</td>\n",
       "    </tr>\n",
       "    <tr>\n",
       "      <th>3</th>\n",
       "      <td>75.61902</td>\n",
       "      <td>-175.01224</td>\n",
       "      <td>30.42</td>\n",
       "      <td>5.82</td>\n",
       "      <td>58</td>\n",
       "      <td>97</td>\n",
       "      <td>Northern</td>\n",
       "    </tr>\n",
       "    <tr>\n",
       "      <th>4</th>\n",
       "      <td>-1.81252</td>\n",
       "      <td>34.02270</td>\n",
       "      <td>75.20</td>\n",
       "      <td>1.86</td>\n",
       "      <td>75</td>\n",
       "      <td>69</td>\n",
       "      <td>Southern</td>\n",
       "    </tr>\n",
       "  </tbody>\n",
       "</table>\n",
       "</div>"
      ],
      "text/plain": [
       "   latitude  longitude  temp_f  wind_speed_meters_sec  cloudiness  humidity  \\\n",
       "0  29.11598  138.35359   80.76                   3.42          98        71   \n",
       "1  79.80197   39.56512   30.16                   8.27         100        94   \n",
       "2  20.48208  -31.77221   78.69                   6.84          98        83   \n",
       "3  75.61902 -175.01224   30.42                   5.82          58        97   \n",
       "4  -1.81252   34.02270   75.20                   1.86          75        69   \n",
       "\n",
       "  hemisphere  \n",
       "0   Northern  \n",
       "1   Northern  \n",
       "2   Northern  \n",
       "3   Northern  \n",
       "4   Southern  "
      ]
     },
     "execution_count": 19,
     "metadata": {},
     "output_type": "execute_result"
    }
   ],
   "source": [
    "# Add a column for northern or southern hemisphere\n",
    "\n",
    "df[\"hemisphere\"] = np.where(df[\"latitude\"] >= 0, \"Northern\", \"Southern\")\n",
    "\n",
    "df.head()"
   ]
  },
  {
   "cell_type": "code",
   "execution_count": 21,
   "metadata": {},
   "outputs": [
    {
     "name": "stdout",
     "output_type": "stream",
     "text": [
      "246\n"
     ]
    }
   ],
   "source": [
    "# Create a df for nothern hemisphere\n",
    "\n",
    "north = df[df[\"hemisphere\"] == \"Northern\"]\n",
    "north.head()\n",
    "print(len(north))"
   ]
  },
  {
   "cell_type": "code",
   "execution_count": null,
   "metadata": {},
   "outputs": [],
   "source": [
    "# Create a df for southern hemisphere\n",
    "\n",
    "south = df[df[\"hemisphere\"] == \"Southern\"]\n",
    "south.head()\n",
    "print(len(south))"
   ]
  },
  {
   "cell_type": "code",
   "execution_count": 23,
   "metadata": {},
   "outputs": [
    {
     "data": {
      "image/png": "[encoded data removed]",
      "text/plain": [
       "<Figure size 432x288 with 1 Axes>"
      ]
     },
     "metadata": {
      "needs_background": "light"
     },
     "output_type": "display_data"
    }
   ],
   "source": [
    "# Linear Regression: Northern Hemisphere - Temperature vs. Latitude\n",
    "\n",
    "model = LinearRegression()\n",
    "\n",
    "X = [[l] for l in north[\"latitude\"]]\n",
    "y = [[t] for t in north[\"temp_f\"]]\n",
    "\n",
    "# print(len(X))\n",
    "# print(len(y))\n",
    "\n",
    "model.fit(X, y)\n",
    "\n",
    "coef = model.coef_\n",
    "# print(f\"The correlation coefficient is {coef}\")\n",
    "intercept = model.intercept_\n",
    "\n",
    "\n",
    "def predict_function(i):\n",
    "    return model.predict([[i]])[0]\n",
    "\n",
    "\n",
    "predict_x = np.arange(min(north[\"latitude\"]), max(north[\"latitude\"]))\n",
    "predict_y = [predict_function(e) for e in predict_x]\n",
    "\n",
    "\n",
    "fig, ax5 = plt.subplots()\n",
    "ax5.set_title(\"Northern Hemisphere: Temperature vs. Latitude, with linear regression\")\n",
    "plt.xlabel(\"Latitude\")\n",
    "plt.ylabel(\"Temperature (f)\")\n",
    "\n",
    "plt.scatter(X, y)\n",
    "\n",
    "plt.plot(predict_x, predict_y)\n",
    "plt.plot(predict_x, predict_y)\n",
    "plt.show()"
   ]
  },
  {
   "cell_type": "code",
   "execution_count": null,
   "metadata": {},
   "outputs": [],
   "source": [
    "# Linear Regression: Southern Hemisphere - Temperature (F) vs. Latitude"
   ]
  },
  {
   "cell_type": "code",
   "execution_count": null,
   "metadata": {},
   "outputs": [],
   "source": [
    "# Linear Regression: Northern Hemisphere - Humidity (%) vs. Latitude"
   ]
  },
  {
   "cell_type": "code",
   "execution_count": null,
   "metadata": {},
   "outputs": [],
   "source": [
    "# Linear Regression: Southern Hemisphere - Humidity (%) vs. Latitude"
   ]
  },
  {
   "cell_type": "code",
   "execution_count": null,
   "metadata": {},
   "outputs": [],
   "source": [
    "# Linear Regression: Northern Hemisphere - Cloudiness (%) vs. Latitude"
   ]
  },
  {
   "cell_type": "code",
   "execution_count": null,
   "metadata": {},
   "outputs": [],
   "source": [
    "# Linear Regression: Southern Hemisphere - Cloudiness (%) vs. Latitude"
   ]
  },
  {
   "cell_type": "code",
   "execution_count": null,
   "metadata": {},
   "outputs": [],
   "source": [
    "# Linear Regression: Northern Hemisphere - Wind Speed (mph) vs. Latitude"
   ]
  },
  {
   "cell_type": "code",
   "execution_count": null,
   "metadata": {},
   "outputs": [],
   "source": [
    "# Linear Regression: Southern Hemisphere - Wind Speed (mph) vs. Latitude"
   ]
  }
 ],
 "metadata": {
  "environment": {
   "name": "common-cpu.m54",
   "type": "gcloud",
   "uri": "gcr.io/deeplearning-platform-release/base-cpu:m54"
  },
  "kernelspec": {
   "display_name": "Python 3",
   "language": "python",
   "name": "python3"
  },
  "language_info": {
   "codemirror_mode": {
    "name": "ipython",
    "version": 3
   },
   "file_extension": ".py",
   "mimetype": "text/x-python",
   "name": "python",
   "nbconvert_exporter": "python",
   "pygments_lexer": "ipython3",
   "version": "3.7.8"
  }
 },
 "nbformat": 4,
 "nbformat_minor": 4
}
