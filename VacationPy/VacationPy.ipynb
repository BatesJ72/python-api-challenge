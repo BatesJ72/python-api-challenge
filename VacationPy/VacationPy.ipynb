{
 "cells": [
  {
   "cell_type": "markdown",
   "metadata": {},
   "source": [
    "# VacationPy\n",
    "----\n",
    "\n",
    "#### Note\n",
    "* Keep an eye on your API usage. Use https://developers.google.com/maps/reporting/gmp-reporting as reference for how to monitor your usage and billing.\n",
    "\n",
    "* Instructions have been included for each segment. You do not have to follow them exactly, but they are included to help you think through the steps."
   ]
  },
  {
   "cell_type": "code",
   "execution_count": 28,
   "metadata": {},
   "outputs": [],
   "source": [
    "# Dependencies and Setup\n",
    "import matplotlib.pyplot as plt\n",
    "import pandas as pd\n",
    "import numpy as np\n",
    "import os\n",
    "from config import api_key\n"
   ]
  },
  {
   "cell_type": "markdown",
   "metadata": {},
   "source": [
    "### Store Part I results into DataFrame\n",
    "* Load the csv exported in Part I to a DataFrame"
   ]
  },
  {
   "cell_type": "code",
   "execution_count": 23,
   "metadata": {},
   "outputs": [
    {
     "data": {
      "text/html": [
       "<div>\n",
       "<style scoped>\n",
       "    .dataframe tbody tr th:only-of-type {\n",
       "        vertical-align: middle;\n",
       "    }\n",
       "\n",
       "    .dataframe tbody tr th {\n",
       "        vertical-align: top;\n",
       "    }\n",
       "\n",
       "    .dataframe thead th {\n",
       "        text-align: right;\n",
       "    }\n",
       "</style>\n",
       "<table border=\"1\" class=\"dataframe\">\n",
       "  <thead>\n",
       "    <tr style=\"text-align: right;\">\n",
       "      <th></th>\n",
       "      <th>Unnamed: 0</th>\n",
       "      <th>latitude</th>\n",
       "      <th>longitude</th>\n",
       "      <th>temp_f</th>\n",
       "      <th>wind_speed_meters_sec</th>\n",
       "      <th>cloudiness</th>\n",
       "      <th>humidity</th>\n",
       "      <th>hemisphere</th>\n",
       "    </tr>\n",
       "  </thead>\n",
       "  <tbody>\n",
       "    <tr>\n",
       "      <th>0</th>\n",
       "      <td>0</td>\n",
       "      <td>29.11598</td>\n",
       "      <td>138.35359</td>\n",
       "      <td>80.76</td>\n",
       "      <td>3.42</td>\n",
       "      <td>98</td>\n",
       "      <td>71</td>\n",
       "      <td>Northern</td>\n",
       "    </tr>\n",
       "    <tr>\n",
       "      <th>1</th>\n",
       "      <td>1</td>\n",
       "      <td>79.80197</td>\n",
       "      <td>39.56512</td>\n",
       "      <td>30.16</td>\n",
       "      <td>8.27</td>\n",
       "      <td>100</td>\n",
       "      <td>94</td>\n",
       "      <td>Northern</td>\n",
       "    </tr>\n",
       "    <tr>\n",
       "      <th>2</th>\n",
       "      <td>2</td>\n",
       "      <td>20.48208</td>\n",
       "      <td>-31.77221</td>\n",
       "      <td>78.69</td>\n",
       "      <td>6.84</td>\n",
       "      <td>98</td>\n",
       "      <td>83</td>\n",
       "      <td>Northern</td>\n",
       "    </tr>\n",
       "    <tr>\n",
       "      <th>3</th>\n",
       "      <td>3</td>\n",
       "      <td>75.61902</td>\n",
       "      <td>-175.01224</td>\n",
       "      <td>30.42</td>\n",
       "      <td>5.82</td>\n",
       "      <td>58</td>\n",
       "      <td>97</td>\n",
       "      <td>Northern</td>\n",
       "    </tr>\n",
       "    <tr>\n",
       "      <th>4</th>\n",
       "      <td>4</td>\n",
       "      <td>-1.81252</td>\n",
       "      <td>34.02270</td>\n",
       "      <td>75.20</td>\n",
       "      <td>1.86</td>\n",
       "      <td>75</td>\n",
       "      <td>69</td>\n",
       "      <td>Southern</td>\n",
       "    </tr>\n",
       "    <tr>\n",
       "      <th>...</th>\n",
       "      <td>...</td>\n",
       "      <td>...</td>\n",
       "      <td>...</td>\n",
       "      <td>...</td>\n",
       "      <td>...</td>\n",
       "      <td>...</td>\n",
       "      <td>...</td>\n",
       "      <td>...</td>\n",
       "    </tr>\n",
       "    <tr>\n",
       "      <th>496</th>\n",
       "      <td>496</td>\n",
       "      <td>87.09952</td>\n",
       "      <td>112.01662</td>\n",
       "      <td>27.07</td>\n",
       "      <td>5.03</td>\n",
       "      <td>100</td>\n",
       "      <td>99</td>\n",
       "      <td>Northern</td>\n",
       "    </tr>\n",
       "    <tr>\n",
       "      <th>497</th>\n",
       "      <td>497</td>\n",
       "      <td>-4.45250</td>\n",
       "      <td>112.72295</td>\n",
       "      <td>81.77</td>\n",
       "      <td>5.01</td>\n",
       "      <td>97</td>\n",
       "      <td>81</td>\n",
       "      <td>Southern</td>\n",
       "    </tr>\n",
       "    <tr>\n",
       "      <th>498</th>\n",
       "      <td>498</td>\n",
       "      <td>-66.19767</td>\n",
       "      <td>30.03318</td>\n",
       "      <td>-0.22</td>\n",
       "      <td>5.79</td>\n",
       "      <td>100</td>\n",
       "      <td>93</td>\n",
       "      <td>Southern</td>\n",
       "    </tr>\n",
       "    <tr>\n",
       "      <th>499</th>\n",
       "      <td>499</td>\n",
       "      <td>-22.75575</td>\n",
       "      <td>163.46040</td>\n",
       "      <td>71.83</td>\n",
       "      <td>4.35</td>\n",
       "      <td>17</td>\n",
       "      <td>79</td>\n",
       "      <td>Southern</td>\n",
       "    </tr>\n",
       "    <tr>\n",
       "      <th>500</th>\n",
       "      <td>500</td>\n",
       "      <td>60.03656</td>\n",
       "      <td>45.96087</td>\n",
       "      <td>50.20</td>\n",
       "      <td>2.15</td>\n",
       "      <td>0</td>\n",
       "      <td>92</td>\n",
       "      <td>Northern</td>\n",
       "    </tr>\n",
       "  </tbody>\n",
       "</table>\n",
       "<p>501 rows × 8 columns</p>\n",
       "</div>"
      ],
      "text/plain": [
       "     Unnamed: 0  latitude  longitude  temp_f  wind_speed_meters_sec  \\\n",
       "0             0  29.11598  138.35359   80.76                   3.42   \n",
       "1             1  79.80197   39.56512   30.16                   8.27   \n",
       "2             2  20.48208  -31.77221   78.69                   6.84   \n",
       "3             3  75.61902 -175.01224   30.42                   5.82   \n",
       "4             4  -1.81252   34.02270   75.20                   1.86   \n",
       "..          ...       ...        ...     ...                    ...   \n",
       "496         496  87.09952  112.01662   27.07                   5.03   \n",
       "497         497  -4.45250  112.72295   81.77                   5.01   \n",
       "498         498 -66.19767   30.03318   -0.22                   5.79   \n",
       "499         499 -22.75575  163.46040   71.83                   4.35   \n",
       "500         500  60.03656   45.96087   50.20                   2.15   \n",
       "\n",
       "     cloudiness  humidity hemisphere  \n",
       "0            98        71   Northern  \n",
       "1           100        94   Northern  \n",
       "2            98        83   Northern  \n",
       "3            58        97   Northern  \n",
       "4            75        69   Southern  \n",
       "..          ...       ...        ...  \n",
       "496         100        99   Northern  \n",
       "497          97        81   Southern  \n",
       "498         100        93   Southern  \n",
       "499          17        79   Southern  \n",
       "500           0        92   Northern  \n",
       "\n",
       "[501 rows x 8 columns]"
      ]
     },
     "execution_count": 23,
     "metadata": {},
     "output_type": "execute_result"
    }
   ],
   "source": [
    "df = pd.read_csv(\"../WeatherPy/weatherdata.csv\")\n",
    "\n",
    "df"
   ]
  },
  {
   "cell_type": "markdown",
   "metadata": {},
   "source": [
    "### Create new DataFrame fitting weather criteria\n",
    "* Narrow down the cities to fit weather conditions.\n",
    "* Drop any rows will null values."
   ]
  },
  {
   "cell_type": "code",
   "execution_count": 43,
   "metadata": {},
   "outputs": [
    {
     "data": {
      "text/html": [
       "<div>\n",
       "<style scoped>\n",
       "    .dataframe tbody tr th:only-of-type {\n",
       "        vertical-align: middle;\n",
       "    }\n",
       "\n",
       "    .dataframe tbody tr th {\n",
       "        vertical-align: top;\n",
       "    }\n",
       "\n",
       "    .dataframe thead th {\n",
       "        text-align: right;\n",
       "    }\n",
       "</style>\n",
       "<table border=\"1\" class=\"dataframe\">\n",
       "  <thead>\n",
       "    <tr style=\"text-align: right;\">\n",
       "      <th></th>\n",
       "      <th>latitude</th>\n",
       "      <th>longitude</th>\n",
       "      <th>temp_f</th>\n",
       "      <th>wind_speed_meters_sec</th>\n",
       "      <th>cloudiness</th>\n",
       "      <th>humidity</th>\n",
       "      <th>hemisphere</th>\n",
       "      <th>lat_and_lon</th>\n",
       "    </tr>\n",
       "  </thead>\n",
       "  <tbody>\n",
       "    <tr>\n",
       "      <th>36</th>\n",
       "      <td>-32.18858</td>\n",
       "      <td>-68.67544</td>\n",
       "      <td>71.02</td>\n",
       "      <td>6.86</td>\n",
       "      <td>45</td>\n",
       "      <td>29</td>\n",
       "      <td>Southern</td>\n",
       "      <td>-32.18858, -68.67544000000001</td>\n",
       "    </tr>\n",
       "    <tr>\n",
       "      <th>43</th>\n",
       "      <td>37.86434</td>\n",
       "      <td>20.69756</td>\n",
       "      <td>74.39</td>\n",
       "      <td>2.10</td>\n",
       "      <td>40</td>\n",
       "      <td>65</td>\n",
       "      <td>Northern</td>\n",
       "      <td>37.864340000000006, 20.69756</td>\n",
       "    </tr>\n",
       "    <tr>\n",
       "      <th>95</th>\n",
       "      <td>-23.45918</td>\n",
       "      <td>-104.32355</td>\n",
       "      <td>67.71</td>\n",
       "      <td>7.47</td>\n",
       "      <td>45</td>\n",
       "      <td>68</td>\n",
       "      <td>Southern</td>\n",
       "      <td>-23.45918, -104.32355</td>\n",
       "    </tr>\n",
       "  </tbody>\n",
       "</table>\n",
       "</div>"
      ],
      "text/plain": [
       "    latitude  longitude  temp_f  wind_speed_meters_sec  cloudiness  humidity  \\\n",
       "36 -32.18858  -68.67544   71.02                   6.86          45        29   \n",
       "43  37.86434   20.69756   74.39                   2.10          40        65   \n",
       "95 -23.45918 -104.32355   67.71                   7.47          45        68   \n",
       "\n",
       "   hemisphere                    lat_and_lon  \n",
       "36   Southern  -32.18858, -68.67544000000001  \n",
       "43   Northern   37.864340000000006, 20.69756  \n",
       "95   Southern          -23.45918, -104.32355  "
      ]
     },
     "execution_count": 43,
     "metadata": {},
     "output_type": "execute_result"
    }
   ],
   "source": [
    "# Ideal weather: 70 degrees, 30% cloudy, wind speed less than 10, 50% humidity\n",
    "\n",
    "df = df[[\"latitude\", \"longitude\", \"temp_f\", \"wind_speed_meters_sec\", \"cloudiness\", \"humidity\", \"hemisphere\"]]\n",
    "\n",
    "df = df[(df[\"temp_f\"] >= 65) & (df[\"temp_f\"] <= 75)]\n",
    "df = df[(df[\"cloudiness\"] >= 10) & (df[\"cloudiness\"] <= 50)]\n",
    "df = df[(df[\"humidity\"] >= 20) & (df[\"humidity\"] <= 70)]\n",
    "df = df[df[\"wind_speed_meters_sec\"] < 10]\n",
    "\n",
    "df[\"lat_and_lon\"] = df[\"latitude\"].astype(str) + \", \" + df[\"longitude\"].astype(str)\n",
    "\n",
    "df.head()"
   ]
  },
  {
   "cell_type": "markdown",
   "metadata": {},
   "source": [
    "### Hotel Map\n",
    "* Store into variable named `hotel_df`.\n",
    "* Add a \"Hotel Name\" column to the DataFrame.\n",
    "* Set parameters to search for hotels with 5000 meters.\n",
    "* Hit the Google Places API for each city's coordinates.\n",
    "* Store the first Hotel result into the DataFrame.\n",
    "* Plot markers on top of the heatmap."
   ]
  },
  {
   "cell_type": "code",
   "execution_count": 50,
   "metadata": {},
   "outputs": [
    {
     "name": "stdout",
     "output_type": "stream",
     "text": [
      "[<Response [200]>, <Response [200]>, <Response [200]>, <Response [200]>, <Response [200]>, <Response [200]>, <Response [200]>, <Response [200]>]\n"
     ]
    }
   ],
   "source": [
    "# Pull data from API\n",
    "\n",
    "vacation_spots = []\n",
    "\n",
    "for element in df:\n",
    "\n",
    "    data = requests.get(\n",
    "        \"https://maps.googleapis.com/maps/api/place/nearbysearch/json?\",\n",
    "        params={\n",
    "            \"key\": api_key,\n",
    "            \"location\": df[\"lat_and_lon\"],\n",
    "            \"radius\": 5000,\n",
    "            \"type\": \"lodging\"\n",
    "        },\n",
    "    )\n",
    "\n",
    "    vacation_spots.append(data)\n",
    "\n",
    "print(list(vacation_spots))"
   ]
  },
  {
   "cell_type": "code",
   "execution_count": 48,
   "metadata": {},
   "outputs": [],
   "source": [
    "latlng=40.714224,-73.961452&key=YOUR_API_KEY"
   ]
  },
  {
   "cell_type": "code",
   "execution_count": 51,
   "metadata": {},
   "outputs": [
    {
     "data": {
      "text/plain": [
       "<Response [200]>"
      ]
     },
     "execution_count": 51,
     "metadata": {},
     "output_type": "execute_result"
    }
   ],
   "source": [
    "data = requests.get(\n",
    "        \"https://maps.googleapis.com/maps/api/place/nearbysearch/json?\",\n",
    "        params={\n",
    "            \"key\": api_key,\n",
    "            \"location\": df[\"lat_and_lon\"],\n",
    "            \"radius\": 5000,\n",
    "            \"type\": \"lodging\"\n",
    "        },\n",
    "    )\n",
    "\n",
    "data"
   ]
  },
  {
   "cell_type": "code",
   "execution_count": 53,
   "metadata": {},
   "outputs": [
    {
     "name": "stdout",
     "output_type": "stream",
     "text": [
      "[<Response [200]>, <Response [200]>, <Response [200]>, <Response [200]>, <Response [200]>, <Response [200]>, <Response [200]>, <Response [200]>]\n"
     ]
    }
   ],
   "source": [
    "   \n",
    "vacation_spots = []\n",
    "\n",
    "for element in df:\n",
    "\n",
    "    data = requests.get(\n",
    "        \"https://maps.googleapis.com/maps/api/geocode/json?\",\n",
    "        params={\n",
    "            \"key\": api_key,\n",
    "            \"latlng\": df[\"lat_and_lon\"],\n",
    "            \"radius\": 5000,\n",
    "            \"type\": \"lodging\"\n",
    "        },\n",
    "    )\n",
    "\n",
    "    vacation_spots.append(data)\n",
    "\n",
    "print(list(vacation_spots))"
   ]
  },
  {
   "cell_type": "code",
   "execution_count": 49,
   "metadata": {},
   "outputs": [
    {
     "name": "stdout",
     "output_type": "stream",
     "text": [
      "[<Response [200]>, <Response [200]>, <Response [200]>, <Response [200]>, <Response [200]>, <Response [200]>, <Response [200]>, <Response [200]>]\n"
     ]
    }
   ],
   "source": [
    "# vacation_spots = []\n",
    "\n",
    "# # for element in df:\n",
    "\n",
    "#     data = requests.get(url)\n",
    "\n",
    "#     vacation_spots.append(data)\n",
    "\n",
    "# print(list(vacation_spots))"
   ]
  },
  {
   "cell_type": "code",
   "execution_count": null,
   "metadata": {},
   "outputs": [],
   "source": [
    "# NOTE: Do not change any of the code in this cell\n",
    "\n",
    "# Using the template add the hotel marks to the heatmap\n",
    "info_box_template = \"\"\"\n",
    "<dl>\n",
    "<dt>Name</dt><dd>{Hotel Name}</dd>\n",
    "<dt>City</dt><dd>{City}</dd>\n",
    "<dt>Country</dt><dd>{Country}</dd>\n",
    "</dl>\n",
    "\"\"\"\n",
    "# Store the DataFrame Row\n",
    "# NOTE: be sure to update with your DataFrame name\n",
    "hotel_info = [info_box_template.format(**row) for index, row in hotel_df.iterrows()]\n",
    "locations = hotel_df[[\"Lat\", \"Lng\"]]"
   ]
  },
  {
   "cell_type": "code",
   "execution_count": null,
   "metadata": {},
   "outputs": [],
   "source": [
    "# Add marker layer ontop of heat map\n",
    "\n",
    "\n",
    "# Display figure\n"
   ]
  },
  {
   "cell_type": "code",
   "execution_count": null,
   "metadata": {},
   "outputs": [],
   "source": []
  }
 ],
 "metadata": {
  "environment": {
   "name": "common-cpu.m54",
   "type": "gcloud",
   "uri": "gcr.io/deeplearning-platform-release/base-cpu:m54"
  },
  "kernelspec": {
   "display_name": "Python 3",
   "language": "python",
   "name": "python3"
  },
  "language_info": {
   "codemirror_mode": {
    "name": "ipython",
    "version": 3
   },
   "file_extension": ".py",
   "mimetype": "text/x-python",
   "name": "python",
   "nbconvert_exporter": "python",
   "pygments_lexer": "ipython3",
   "version": "3.7.8"
  },
  "latex_envs": {
   "LaTeX_envs_menu_present": true,
   "autoclose": false,
   "autocomplete": true,
   "bibliofile": "biblio.bib",
   "cite_by": "apalike",
   "current_citInitial": 1,
   "eqLabelWithNumbers": true,
   "eqNumInitial": 1,
   "hotkeys": {
    "equation": "Ctrl-E",
    "itemize": "Ctrl-I"
   },
   "labels_anchors": false,
   "latex_user_defs": false,
   "report_style_numbering": false,
   "user_envs_cfg": false
  }
 },
 "nbformat": 4,
 "nbformat_minor": 4
}
